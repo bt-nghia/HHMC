{
 "cells": [
  {
   "cell_type": "code",
   "execution_count": 9,
   "metadata": {},
   "outputs": [],
   "source": [
    "import numpy as np\n",
    "import torch"
   ]
  },
  {
   "cell_type": "code",
   "execution_count": 10,
   "metadata": {},
   "outputs": [],
   "source": [
    "ords = [\n",
    "    [1,2,0,3],\n",
    "    [0,1,4],\n",
    "    [2,3],\n",
    "    [3,4],\n",
    "]\n",
    "\n",
    "# 5 cates\n",
    "item_sim = torch.tensor([\n",
    "    [1,2,3,3,1],\n",
    "    [2,2,1,1,2],\n",
    "    [3,1,2,1,3],\n",
    "    [3,1,1,1,1],\n",
    "    [1,2,3,1,2]\n",
    "])"
   ]
  },
  {
   "cell_type": "code",
   "execution_count": 11,
   "metadata": {},
   "outputs": [],
   "source": [
    "def eval(orders, i_i_sim):\n",
    "    i_sim = i_i_sim\n",
    "    print('similarity matrix', i_sim)\n",
    "    y_truth = [i[-1] for i in orders]\n",
    "    print('y_truth', y_truth)\n",
    "    x = [i[0:-1] for i in orders]\n",
    "    print('x', x)\n",
    "    y_pred = [torch.sum(i_sim[i], dim=0) for i in x]\n",
    "    print('y_pred')\n",
    "    return y_pred"
   ]
  },
  {
   "cell_type": "code",
   "execution_count": 12,
   "metadata": {},
   "outputs": [
    {
     "name": "stdout",
     "output_type": "stream",
     "text": [
      "similarity matrix tensor([[1, 2, 3, 3, 1],\n",
      "        [2, 2, 1, 1, 2],\n",
      "        [3, 1, 2, 1, 3],\n",
      "        [3, 1, 1, 1, 1],\n",
      "        [1, 2, 3, 1, 2]])\n",
      "y_truth [3, 4, 3, 4]\n",
      "x [[1, 2, 0], [0, 1], [2], [3]]\n",
      "y_pred\n"
     ]
    },
    {
     "data": {
      "text/plain": [
       "[tensor([6, 5, 6, 5, 6]),\n",
       " tensor([3, 4, 4, 4, 3]),\n",
       " tensor([3, 1, 2, 1, 3]),\n",
       " tensor([3, 1, 1, 1, 1])]"
      ]
     },
     "execution_count": 12,
     "metadata": {},
     "output_type": "execute_result"
    }
   ],
   "source": [
    "eval(orders=ords, i_i_sim=item_sim)"
   ]
  },
  {
   "cell_type": "code",
   "execution_count": 2,
   "metadata": {},
   "outputs": [],
   "source": [
    "from utils.metrics import top_k_accuracy\n",
    "import numpy as np\n",
    "import torch"
   ]
  },
  {
   "cell_type": "code",
   "execution_count": 7,
   "metadata": {},
   "outputs": [
    {
     "data": {
      "text/plain": [
       "0.6666666666666666"
      ]
     },
     "execution_count": 7,
     "metadata": {},
     "output_type": "execute_result"
    }
   ],
   "source": [
    "a = torch.tensor([[1,2,3,4],\n",
    "     [2,3,4,5],\n",
    "     [5,6,7,8]])\n",
    "\n",
    "b = [3,2,3]\n",
    "\n",
    "top_k_accuracy(np.array(a), np.array(b), 1)"
   ]
  },
  {
   "cell_type": "code",
   "execution_count": 8,
   "metadata": {},
   "outputs": [],
   "source": [
    "import pandas as pd"
   ]
  },
  {
   "cell_type": "code",
   "execution_count": 9,
   "metadata": {},
   "outputs": [
    {
     "data": {
      "text/html": [
       "<div>\n",
       "<style scoped>\n",
       "    .dataframe tbody tr th:only-of-type {\n",
       "        vertical-align: middle;\n",
       "    }\n",
       "\n",
       "    .dataframe tbody tr th {\n",
       "        vertical-align: top;\n",
       "    }\n",
       "\n",
       "    .dataframe thead th {\n",
       "        text-align: right;\n",
       "    }\n",
       "</style>\n",
       "<table border=\"1\" class=\"dataframe\">\n",
       "  <thead>\n",
       "    <tr style=\"text-align: right;\">\n",
       "      <th></th>\n",
       "      <th>user_id</th>\n",
       "      <th>aisle_id</th>\n",
       "    </tr>\n",
       "  </thead>\n",
       "  <tbody>\n",
       "    <tr>\n",
       "      <th>0</th>\n",
       "      <td>0</td>\n",
       "      <td>111</td>\n",
       "    </tr>\n",
       "    <tr>\n",
       "      <th>1</th>\n",
       "      <td>0</td>\n",
       "      <td>87</td>\n",
       "    </tr>\n",
       "    <tr>\n",
       "      <th>2</th>\n",
       "      <td>0</td>\n",
       "      <td>22</td>\n",
       "    </tr>\n",
       "    <tr>\n",
       "      <th>3</th>\n",
       "      <td>0</td>\n",
       "      <td>37</td>\n",
       "    </tr>\n",
       "    <tr>\n",
       "      <th>4</th>\n",
       "      <td>0</td>\n",
       "      <td>36</td>\n",
       "    </tr>\n",
       "    <tr>\n",
       "      <th>...</th>\n",
       "      <td>...</td>\n",
       "      <td>...</td>\n",
       "    </tr>\n",
       "    <tr>\n",
       "      <th>971387</th>\n",
       "      <td>29927</td>\n",
       "      <td>37</td>\n",
       "    </tr>\n",
       "    <tr>\n",
       "      <th>971388</th>\n",
       "      <td>29927</td>\n",
       "      <td>71</td>\n",
       "    </tr>\n",
       "    <tr>\n",
       "      <th>971389</th>\n",
       "      <td>29927</td>\n",
       "      <td>19</td>\n",
       "    </tr>\n",
       "    <tr>\n",
       "      <th>971390</th>\n",
       "      <td>29927</td>\n",
       "      <td>95</td>\n",
       "    </tr>\n",
       "    <tr>\n",
       "      <th>971391</th>\n",
       "      <td>29927</td>\n",
       "      <td>110</td>\n",
       "    </tr>\n",
       "  </tbody>\n",
       "</table>\n",
       "<p>971392 rows × 2 columns</p>\n",
       "</div>"
      ],
      "text/plain": [
       "        user_id  aisle_id\n",
       "0             0       111\n",
       "1             0        87\n",
       "2             0        22\n",
       "3             0        37\n",
       "4             0        36\n",
       "...         ...       ...\n",
       "971387    29927        37\n",
       "971388    29927        71\n",
       "971389    29927        19\n",
       "971390    29927        95\n",
       "971391    29927       110\n",
       "\n",
       "[971392 rows x 2 columns]"
      ]
     },
     "execution_count": 9,
     "metadata": {},
     "output_type": "execute_result"
    }
   ],
   "source": [
    "t = pd.read_csv('data/instacart/interaction.csv', sep='\\t')\n",
    "t"
   ]
  },
  {
   "cell_type": "code",
   "execution_count": 15,
   "metadata": {},
   "outputs": [],
   "source": [
    "num_user = t['user_id'].max() + 1"
   ]
  },
  {
   "cell_type": "code",
   "execution_count": 16,
   "metadata": {},
   "outputs": [],
   "source": [
    "u = t['user_id'].to_numpy()\n",
    "i = t['aisle_id'].to_numpy() + num_user"
   ]
  },
  {
   "cell_type": "code",
   "execution_count": 17,
   "metadata": {},
   "outputs": [
    {
     "data": {
      "text/plain": [
       "tensor([[    0,     0,     0,  ..., 29927, 29927, 29927],\n",
       "        [30039, 30015, 29950,  ..., 29947, 30023, 30038]])"
      ]
     },
     "execution_count": 17,
     "metadata": {},
     "output_type": "execute_result"
    }
   ],
   "source": [
    "torch.tensor([u, i])"
   ]
  },
  {
   "cell_type": "code",
   "execution_count": 1,
   "metadata": {},
   "outputs": [
    {
     "data": {
      "text/plain": [
       "1942784"
      ]
     },
     "execution_count": 1,
     "metadata": {},
     "output_type": "execute_result"
    }
   ],
   "source": [
    "971392 * 2"
   ]
  }
 ],
 "metadata": {
  "kernelspec": {
   "display_name": "Python 3",
   "language": "python",
   "name": "python3"
  },
  "language_info": {
   "codemirror_mode": {
    "name": "ipython",
    "version": 3
   },
   "file_extension": ".py",
   "mimetype": "text/x-python",
   "name": "python",
   "nbconvert_exporter": "python",
   "pygments_lexer": "ipython3",
   "version": "3.10.0"
  },
  "orig_nbformat": 4
 },
 "nbformat": 4,
 "nbformat_minor": 2
}
