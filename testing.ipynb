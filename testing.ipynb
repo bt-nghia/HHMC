{
 "cells": [
  {
   "cell_type": "code",
   "execution_count": 9,
   "metadata": {},
   "outputs": [],
   "source": [
    "import numpy as np\n",
    "import torch"
   ]
  },
  {
   "cell_type": "code",
   "execution_count": 10,
   "metadata": {},
   "outputs": [],
   "source": [
    "ords = [\n",
    "    [1,2,0,3],\n",
    "    [0,1,4],\n",
    "    [2,3],\n",
    "    [3,4],\n",
    "]\n",
    "\n",
    "# 5 cates\n",
    "item_sim = torch.tensor([\n",
    "    [1,2,3,3,1],\n",
    "    [2,2,1,1,2],\n",
    "    [3,1,2,1,3],\n",
    "    [3,1,1,1,1],\n",
    "    [1,2,3,1,2]\n",
    "])"
   ]
  },
  {
   "cell_type": "code",
   "execution_count": 11,
   "metadata": {},
   "outputs": [],
   "source": [
    "def eval(orders, i_i_sim):\n",
    "    i_sim = i_i_sim\n",
    "    print('similarity matrix', i_sim)\n",
    "    y_truth = [i[-1] for i in orders]\n",
    "    print('y_truth', y_truth)\n",
    "    x = [i[0:-1] for i in orders]\n",
    "    print('x', x)\n",
    "    y_pred = [torch.sum(i_sim[i], dim=0) for i in x]\n",
    "    print('y_pred')\n",
    "    return y_pred"
   ]
  },
  {
   "cell_type": "code",
   "execution_count": 12,
   "metadata": {},
   "outputs": [
    {
     "name": "stdout",
     "output_type": "stream",
     "text": [
      "similarity matrix tensor([[1, 2, 3, 3, 1],\n",
      "        [2, 2, 1, 1, 2],\n",
      "        [3, 1, 2, 1, 3],\n",
      "        [3, 1, 1, 1, 1],\n",
      "        [1, 2, 3, 1, 2]])\n",
      "y_truth [3, 4, 3, 4]\n",
      "x [[1, 2, 0], [0, 1], [2], [3]]\n",
      "y_pred\n"
     ]
    },
    {
     "data": {
      "text/plain": [
       "[tensor([6, 5, 6, 5, 6]),\n",
       " tensor([3, 4, 4, 4, 3]),\n",
       " tensor([3, 1, 2, 1, 3]),\n",
       " tensor([3, 1, 1, 1, 1])]"
      ]
     },
     "execution_count": 12,
     "metadata": {},
     "output_type": "execute_result"
    }
   ],
   "source": [
    "eval(orders=ords, i_i_sim=item_sim)"
   ]
  },
  {
   "cell_type": "code",
   "execution_count": 2,
   "metadata": {},
   "outputs": [],
   "source": [
    "from utils.metrics import top_k_accuracy\n",
    "import numpy as np\n",
    "import torch"
   ]
  },
  {
   "cell_type": "code",
   "execution_count": 7,
   "metadata": {},
   "outputs": [
    {
     "data": {
      "text/plain": [
       "0.6666666666666666"
      ]
     },
     "execution_count": 7,
     "metadata": {},
     "output_type": "execute_result"
    }
   ],
   "source": [
    "a = torch.tensor([[1,2,3,4],\n",
    "     [2,3,4,5],\n",
    "     [5,6,7,8]])\n",
    "\n",
    "b = [3,2,3]\n",
    "\n",
    "top_k_accuracy(np.array(a), np.array(b), 1)"
   ]
  }
 ],
 "metadata": {
  "kernelspec": {
   "display_name": "Python 3",
   "language": "python",
   "name": "python3"
  },
  "language_info": {
   "codemirror_mode": {
    "name": "ipython",
    "version": 3
   },
   "file_extension": ".py",
   "mimetype": "text/x-python",
   "name": "python",
   "nbconvert_exporter": "python",
   "pygments_lexer": "ipython3",
   "version": "3.10.0"
  },
  "orig_nbformat": 4
 },
 "nbformat": 4,
 "nbformat_minor": 2
}
