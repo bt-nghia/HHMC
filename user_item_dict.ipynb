{
 "cells": [
  {
   "cell_type": "markdown",
   "metadata": {},
   "source": [
    "**Construct user-item dict**"
   ]
  },
  {
   "cell_type": "code",
   "execution_count": 1,
   "metadata": {},
   "outputs": [],
   "source": [
    "import numpy as np\n",
    "import pandas as pd"
   ]
  },
  {
   "cell_type": "code",
   "execution_count": 4,
   "metadata": {},
   "outputs": [
    {
     "data": {
      "text/html": [
       "<div>\n",
       "<style scoped>\n",
       "    .dataframe tbody tr th:only-of-type {\n",
       "        vertical-align: middle;\n",
       "    }\n",
       "\n",
       "    .dataframe tbody tr th {\n",
       "        vertical-align: top;\n",
       "    }\n",
       "\n",
       "    .dataframe thead th {\n",
       "        text-align: right;\n",
       "    }\n",
       "</style>\n",
       "<table border=\"1\" class=\"dataframe\">\n",
       "  <thead>\n",
       "    <tr style=\"text-align: right;\">\n",
       "      <th></th>\n",
       "      <th>user_id</th>\n",
       "      <th>order_id</th>\n",
       "      <th>product_id</th>\n",
       "      <th>aisle_id</th>\n",
       "      <th>department_id</th>\n",
       "      <th>x_label</th>\n",
       "    </tr>\n",
       "  </thead>\n",
       "  <tbody>\n",
       "    <tr>\n",
       "      <th>0</th>\n",
       "      <td>0</td>\n",
       "      <td>674977</td>\n",
       "      <td>14146</td>\n",
       "      <td>111</td>\n",
       "      <td>3</td>\n",
       "      <td>0</td>\n",
       "    </tr>\n",
       "    <tr>\n",
       "      <th>1</th>\n",
       "      <td>0</td>\n",
       "      <td>2831726</td>\n",
       "      <td>42356</td>\n",
       "      <td>87</td>\n",
       "      <td>13</td>\n",
       "      <td>0</td>\n",
       "    </tr>\n",
       "    <tr>\n",
       "      <th>2</th>\n",
       "      <td>0</td>\n",
       "      <td>2616505</td>\n",
       "      <td>9634</td>\n",
       "      <td>22</td>\n",
       "      <td>19</td>\n",
       "      <td>0</td>\n",
       "    </tr>\n",
       "    <tr>\n",
       "      <th>3</th>\n",
       "      <td>0</td>\n",
       "      <td>674977</td>\n",
       "      <td>16188</td>\n",
       "      <td>37</td>\n",
       "      <td>1</td>\n",
       "      <td>0</td>\n",
       "    </tr>\n",
       "    <tr>\n",
       "      <th>4</th>\n",
       "      <td>0</td>\n",
       "      <td>3327122</td>\n",
       "      <td>40203</td>\n",
       "      <td>36</td>\n",
       "      <td>1</td>\n",
       "      <td>0</td>\n",
       "    </tr>\n",
       "    <tr>\n",
       "      <th>...</th>\n",
       "      <td>...</td>\n",
       "      <td>...</td>\n",
       "      <td>...</td>\n",
       "      <td>...</td>\n",
       "      <td>...</td>\n",
       "      <td>...</td>\n",
       "    </tr>\n",
       "    <tr>\n",
       "      <th>4439611</th>\n",
       "      <td>29927</td>\n",
       "      <td>1869536</td>\n",
       "      <td>45850</td>\n",
       "      <td>19</td>\n",
       "      <td>11</td>\n",
       "      <td>0</td>\n",
       "    </tr>\n",
       "    <tr>\n",
       "      <th>4439612</th>\n",
       "      <td>29927</td>\n",
       "      <td>1286737</td>\n",
       "      <td>46642</td>\n",
       "      <td>37</td>\n",
       "      <td>1</td>\n",
       "      <td>0</td>\n",
       "    </tr>\n",
       "    <tr>\n",
       "      <th>4439613</th>\n",
       "      <td>29927</td>\n",
       "      <td>3378039</td>\n",
       "      <td>4920</td>\n",
       "      <td>122</td>\n",
       "      <td>4</td>\n",
       "      <td>0</td>\n",
       "    </tr>\n",
       "    <tr>\n",
       "      <th>4439614</th>\n",
       "      <td>29927</td>\n",
       "      <td>3091945</td>\n",
       "      <td>45364</td>\n",
       "      <td>41</td>\n",
       "      <td>1</td>\n",
       "      <td>0</td>\n",
       "    </tr>\n",
       "    <tr>\n",
       "      <th>4439615</th>\n",
       "      <td>29927</td>\n",
       "      <td>3286821</td>\n",
       "      <td>34969</td>\n",
       "      <td>82</td>\n",
       "      <td>4</td>\n",
       "      <td>0</td>\n",
       "    </tr>\n",
       "  </tbody>\n",
       "</table>\n",
       "<p>4439616 rows × 6 columns</p>\n",
       "</div>"
      ],
      "text/plain": [
       "         user_id  order_id  product_id  aisle_id  department_id  x_label\n",
       "0              0    674977       14146       111              3        0\n",
       "1              0   2831726       42356        87             13        0\n",
       "2              0   2616505        9634        22             19        0\n",
       "3              0    674977       16188        37              1        0\n",
       "4              0   3327122       40203        36              1        0\n",
       "...          ...       ...         ...       ...            ...      ...\n",
       "4439611    29927   1869536       45850        19             11        0\n",
       "4439612    29927   1286737       46642        37              1        0\n",
       "4439613    29927   3378039        4920       122              4        0\n",
       "4439614    29927   3091945       45364        41              1        0\n",
       "4439615    29927   3286821       34969        82              4        0\n",
       "\n",
       "[4439616 rows x 6 columns]"
      ]
     },
     "execution_count": 4,
     "metadata": {},
     "output_type": "execute_result"
    }
   ],
   "source": [
    "u_i = pd.read_csv('data/instacart/interaction.csv', sep='\\t')\n",
    "u_i"
   ]
  },
  {
   "cell_type": "code",
   "execution_count": 5,
   "metadata": {},
   "outputs": [],
   "source": [
    "u_i = u_i[['user_id', 'aisle_id', 'x_label']]"
   ]
  },
  {
   "cell_type": "code",
   "execution_count": 7,
   "metadata": {},
   "outputs": [],
   "source": [
    "u_i = u_i[u_i['x_label']==0]"
   ]
  },
  {
   "cell_type": "code",
   "execution_count": 9,
   "metadata": {},
   "outputs": [],
   "source": [
    "user_id = u_i['user_id'].to_numpy()\n",
    "item_id = u_i['aisle_id'].to_numpy()"
   ]
  },
  {
   "cell_type": "code",
   "execution_count": 11,
   "metadata": {},
   "outputs": [],
   "source": [
    "user_item_dict = {}\n",
    "l = len(u_i)\n",
    "n_user = u_i['user_id'].max() + 1\n",
    "\n",
    "for i in range(0, n_user):\n",
    "    user_item_dict[i] = []\n",
    "\n",
    "for i in range(0, l):\n",
    "    user_item_dict[user_id[i]].append(item_id[i])"
   ]
  },
  {
   "cell_type": "code",
   "execution_count": 12,
   "metadata": {},
   "outputs": [],
   "source": [
    "np.save('data/instacart/user_item_dict.npy', user_item_dict)"
   ]
  }
 ],
 "metadata": {
  "kernelspec": {
   "display_name": "Python 3",
   "language": "python",
   "name": "python3"
  },
  "language_info": {
   "codemirror_mode": {
    "name": "ipython",
    "version": 3
   },
   "file_extension": ".py",
   "mimetype": "text/x-python",
   "name": "python",
   "nbconvert_exporter": "python",
   "pygments_lexer": "ipython3",
   "version": "3.10.0"
  },
  "orig_nbformat": 4
 },
 "nbformat": 4,
 "nbformat_minor": 2
}
